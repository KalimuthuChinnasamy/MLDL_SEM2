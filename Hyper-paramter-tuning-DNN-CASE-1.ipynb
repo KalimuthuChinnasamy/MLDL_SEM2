{
 "cells": [
  {
   "cell_type": "code",
   "execution_count": 1,
   "metadata": {},
   "outputs": [],
   "source": [
    "#Grid Search Hyperparameters\n",
    "\n",
    "#Hyperparameter Optimization\n",
    "\n",
    "#k-fold Cross Validation: k=5 or k=10 \n",
    "#Please use seed during cross validation to produce reproduicable results."
   ]
  },
  {
   "cell_type": "code",
   "execution_count": 3,
   "metadata": {},
   "outputs": [
    {
     "name": "stdout",
     "output_type": "stream",
     "text": [
      "Best: 0.794714 using {'epochs': 10, 'batch_size': 100}\n",
      "0.770485 (0.193752) with: {'epochs': 10, 'batch_size': 10}\n",
      "0.750661 (0.177867) with: {'epochs': 50, 'batch_size': 10}\n",
      "0.723789 (0.202798) with: {'epochs': 100, 'batch_size': 10}\n",
      "0.769163 (0.191902) with: {'epochs': 10, 'batch_size': 20}\n",
      "0.744493 (0.176090) with: {'epochs': 50, 'batch_size': 20}\n",
      "0.709251 (0.199711) with: {'epochs': 100, 'batch_size': 20}\n",
      "0.782819 (0.202331) with: {'epochs': 10, 'batch_size': 40}\n",
      "0.770044 (0.192489) with: {'epochs': 50, 'batch_size': 40}\n",
      "0.724229 (0.190016) with: {'epochs': 100, 'batch_size': 40}\n",
      "0.788987 (0.206253) with: {'epochs': 10, 'batch_size': 60}\n",
      "0.766960 (0.190507) with: {'epochs': 50, 'batch_size': 60}\n",
      "0.738767 (0.172681) with: {'epochs': 100, 'batch_size': 60}\n",
      "0.791189 (0.208276) with: {'epochs': 10, 'batch_size': 80}\n",
      "0.771806 (0.193689) with: {'epochs': 50, 'batch_size': 80}\n",
      "0.751101 (0.179602) with: {'epochs': 100, 'batch_size': 80}\n",
      "0.794714 (0.210861) with: {'epochs': 10, 'batch_size': 100}\n",
      "0.771366 (0.193439) with: {'epochs': 50, 'batch_size': 100}\n",
      "0.762555 (0.187679) with: {'epochs': 100, 'batch_size': 100}\n"
     ]
    }
   ],
   "source": [
    "# Case 1: Use scikit-learn to grid search the batch size and epochs\n",
    "import numpy as np\n",
    "from sklearn.model_selection import GridSearchCV\n",
    "from keras.models import Sequential\n",
    "from keras.layers import Dense\n",
    "from keras.wrappers.scikit_learn import KerasClassifier\n",
    "from sklearn.preprocessing import Normalizer\n",
    "# Function to create model, required for KerasClassifier\n",
    "def create_model():\n",
    "\t# create model\n",
    "\tmodel = Sequential()\n",
    "\tmodel.add(Dense(12, input_dim=600, activation='relu'))\n",
    "\tmodel.add(Dense(1, activation='sigmoid'))\n",
    "\t# Compile model\n",
    "\tmodel.compile(loss='binary_crossentropy', optimizer='adam', metrics=['accuracy'])\n",
    "\treturn model\n",
    "# fix random seed for reproducibility\n",
    "seed = 7\n",
    "numpy.random.seed(seed)\n",
    "# load dataset\n",
    "#dataset = numpy.loadtxt(\"pima-indians-diabetes.csv\", delimiter=\",\")\n",
    "# split into input (X) and output (Y) variables\n",
    "#X = dataset[:,0:8]\n",
    "#Y = dataset[:,8]\n",
    "import pandas as pd\n",
    "dataset = pd.read_csv(\"Training.csv\")\n",
    "# split into input (X) and output (Y) variables\n",
    "X = dataset.iloc[:,0:600]\n",
    "Y = dataset.iloc[:,600]\n",
    "\n",
    "\n",
    "\n",
    "#normalize the data\n",
    "scaler = Normalizer().fit(X)\n",
    "X = scaler.transform(X)\n",
    "\n",
    "# create model\n",
    "model = KerasClassifier(build_fn=create_model, verbose=0)\n",
    "# define the grid search parameters\n",
    "batch_size = [10, 20, 40, 60, 80, 100]\n",
    "epochs = [10, 50, 100]\n",
    "param_grid = dict(batch_size=batch_size, epochs=epochs)\n",
    "grid = GridSearchCV(estimator=model, param_grid=param_grid, n_jobs=-1)\n",
    "grid_result = grid.fit(X, Y)\n",
    "# summarize results\n",
    "print(\"Best: %f using %s\" % (grid_result.best_score_, grid_result.best_params_))\n",
    "means = grid_result.cv_results_['mean_test_score']\n",
    "stds = grid_result.cv_results_['std_test_score']\n",
    "params = grid_result.cv_results_['params']\n",
    "for mean, stdev, param in zip(means, stds, params):\n",
    "    print(\"%f (%f) with: %r\" % (mean, stdev, param))"
   ]
  }
 ],
 "metadata": {
  "kernelspec": {
   "display_name": "Python 2",
   "language": "python",
   "name": "python2"
  },
  "language_info": {
   "codemirror_mode": {
    "name": "ipython",
    "version": 2
   },
   "file_extension": ".py",
   "mimetype": "text/x-python",
   "name": "python",
   "nbconvert_exporter": "python",
   "pygments_lexer": "ipython2",
   "version": "2.7.12"
  }
 },
 "nbformat": 4,
 "nbformat_minor": 2
}
